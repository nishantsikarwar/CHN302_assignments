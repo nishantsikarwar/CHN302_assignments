{
 "cells": [
  {
   "cell_type": "code",
   "execution_count": 6,
   "metadata": {
    "collapsed": false
   },
   "outputs": [],
   "source": [
    "from numpy import matrix,array\n",
    "from numpy.linalg import solve,norm"
   ]
  },
  {
   "cell_type": "code",
   "execution_count": 7,
   "metadata": {
    "collapsed": false
   },
   "outputs": [],
   "source": [
    "#input variables\n",
    "F=20000 #mol/hr\n",
    "TF=40 #celsius\n",
    "TS=120 #celsius\n",
    "T3=50 #celcius\n",
    "\n",
    "L3=4000 #kg/hr, found from solute balance using xF=0.1 and xL3=0.5\n",
    "\n",
    "#property values, assumed independent of temperature and composition\n",
    "Cp=4 #kJ/kg.K\n",
    "lambdaS=2000 #kJ/kg\n",
    "lambda1=2000 #kJ/kg\n",
    "lambda2=2000 #kJ/kg\n",
    "lambda3=2000 #kJ/kg\n",
    "U1=3000 #kJ/hr-m^2-K\n",
    "U2=1800 #kJ/hr-m^2-K\n",
    "U3=1200 #kJ/hr-m^2-K"
   ]
  },
  {
   "cell_type": "code",
   "execution_count": 11,
   "metadata": {
    "collapsed": false
   },
   "outputs": [],
   "source": [
    "#fn(X) is the function vector where X is the vector of unknown variables \n",
    "#[S T1 T2 L1 L2 A]\n",
    "def fn(X):\n",
    "    return array([F*Cp*(TF-X[1])      +X[0]*lambdaS        -(F-X[3])*lambda1,\n",
    "            X[3]*Cp*(X[1]-X[2]) +(F-X[3])*lambda1    -(X[3]-X[4])*lambda2,\n",
    "            X[4]*Cp*(X[2]-T3)   +(X[3]-X[4])*lambda2 -(X[4]-L3)*lambda3,\n",
    "            X[0]*lambdaS        -U1*X[5]*(TS-X[1]),\n",
    "            (F-X[3])*lambda1    -U2*X[5]*(X[1]-X[2]),\n",
    "            (X[3]-X[4])*lambda2 -U3*X[5]*(X[2]-T3)])\n",
    "\n",
    "#Jacobian matrix where X is the vector of unknown variables\n",
    "def Jacobian(X):\n",
    "    return matrix([[lambdaS,-F*Cp,   0.0,      lambda1,                        0.0,                   0.0],\n",
    "            [0.0,    X[3]*Cp,-X[3]*Cp,  Cp*(X[1]-X[2])-lambda1-lambda2, lambda2,                      0.0],\n",
    "            [0.0,    0.0,     X[4]*Cp,  lambda2,                        Cp*(X[2]-T3)-lambda2-lambda3, 0.0],\n",
    "            [lambdaS,    U1*X[5], 0.0,      0.0,                            0.0,                -U1*(TS-X[1])],\n",
    "            [0.0,   -U2*X[5], U2*X[5], -lambda1,                        0.0,              -U2*(X[1]-X[2])],\n",
    "            [0.0,    0.0,    -U3*X[5],  lambda2,                       -lambda2,           -U3*(X[2]-T3)]])"
   ]
  },
  {
   "cell_type": "code",
   "execution_count": 9,
   "metadata": {
    "collapsed": false
   },
   "outputs": [
    {
     "name": "stdout",
     "output_type": "stream",
     "text": [
      "solution achieved in  8  iterations\n",
      "X= [  7208.13105138    102.20699396     82.78902881  15280.14870709\n",
      "   9966.87862385    270.0735722 ]\n"
     ]
    }
   ],
   "source": [
    "#initial guess of X]\n",
    "X=array([100.0,30.0,40.0,5000.0,5000.0,1000.0])\n",
    "error=1.0\n",
    "tolerance=1.0e-12\n",
    "count=1\n",
    "while error>tolerance:\n",
    "    #compute step size\n",
    "    ndX=solve(Jacobian(X),fn(X))\n",
    "    error=norm(ndX)\n",
    "    X=X-ndX\n",
    "    count=count+1\n",
    "print(\"solution achieved in \", count, \" iterations\")\n",
    "\n",
    "print(\"X=\",X)"
   ]
  },
  {
   "cell_type": "code",
   "execution_count": 10,
   "metadata": {
    "collapsed": false
   },
   "outputs": [
    {
     "data": {
      "text/plain": [
       "array([  1.86264515e-09,  -1.86264515e-09,   0.00000000e+00,\n",
       "         3.72529030e-09,  -1.86264515e-09,   0.00000000e+00])"
      ]
     },
     "execution_count": 10,
     "metadata": {},
     "output_type": "execute_result"
    }
   ],
   "source": [
    "fn(X)"
   ]
  },
  {
   "cell_type": "code",
   "execution_count": null,
   "metadata": {
    "collapsed": true
   },
   "outputs": [],
   "source": []
  }
 ],
 "metadata": {
  "kernelspec": {
   "display_name": "Python 3",
   "language": "python",
   "name": "python3"
  },
  "language_info": {
   "codemirror_mode": {
    "name": "ipython",
    "version": 3
   },
   "file_extension": ".py",
   "mimetype": "text/x-python",
   "name": "python",
   "nbconvert_exporter": "python",
   "pygments_lexer": "ipython3",
   "version": "3.6.0"
  }
 },
 "nbformat": 4,
 "nbformat_minor": 0
}
